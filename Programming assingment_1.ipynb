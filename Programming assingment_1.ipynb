{
 "cells": [
  {
   "cell_type": "markdown",
   "id": "7d439eff",
   "metadata": {},
   "source": [
    "## 1.) Write a Python program to print \"Hello Python\"?"
   ]
  },
  {
   "cell_type": "code",
   "execution_count": 1,
   "id": "0d479b54",
   "metadata": {},
   "outputs": [
    {
     "name": "stdout",
     "output_type": "stream",
     "text": [
      "Hello Python\n"
     ]
    }
   ],
   "source": [
    "print(\"Hello Python\")"
   ]
  },
  {
   "cell_type": "markdown",
   "id": "4b8711c4",
   "metadata": {},
   "source": [
    "## 2.)Write a Python program to do arithmetical operations addition and division.?"
   ]
  },
  {
   "cell_type": "code",
   "execution_count": 2,
   "id": "6656a416",
   "metadata": {},
   "outputs": [
    {
     "name": "stdout",
     "output_type": "stream",
     "text": [
      "Enter the number10\n",
      "Enter the number12\n",
      " addition of 10 and 12 = 22\n",
      " division of 10 and 12 =0.8333333333333334\n"
     ]
    }
   ],
   "source": [
    "a=eval(input(\"Enter the number\"))\n",
    "b=eval(input(\"Enter the number\"))\n",
    "\n",
    "# addition of function\n",
    "addition=a+b\n",
    "print(f' addition of {a} and {b} = {addition}')\n",
    "\n",
    "# division function\n",
    "division=a/b\n",
    "print(f' division of {a} and {b} ={division}')"
   ]
  },
  {
   "cell_type": "markdown",
   "id": "3c3d151a",
   "metadata": {},
   "source": [
    "## 3.)Write a Python program to find the area of a triangle?"
   ]
  },
  {
   "cell_type": "code",
   "execution_count": 3,
   "id": "eb46adef",
   "metadata": {},
   "outputs": [
    {
     "name": "stdout",
     "output_type": "stream",
     "text": [
      "Enter the base5\n",
      "Enter the height2\n",
      " Area of triangle is 5.0\n"
     ]
    }
   ],
   "source": [
    "# triangle =1/2*base*height\n",
    "base=eval(input('Enter the base'))\n",
    "height=eval(input('Enter the height'))\n",
    "triange=1/2*base*height\n",
    "print(f' Area of triangle is {triange}')"
   ]
  },
  {
   "cell_type": "markdown",
   "id": "810b0e03",
   "metadata": {},
   "source": [
    "## 4.)Write a Python program to swap two variables?"
   ]
  },
  {
   "cell_type": "code",
   "execution_count": 4,
   "id": "6a00727c",
   "metadata": {},
   "outputs": [
    {
     "name": "stdout",
     "output_type": "stream",
     "text": [
      "A = 8\n",
      "B = 9\n",
      "\n",
      "before swap variables\n",
      "The value of A before swapping: 8\n",
      "The value of B before swapping: 9\n",
      "\n",
      "After the swap variables\n",
      "The value of A after swapping: 9\n",
      "The value of B after swapping: 8\n"
     ]
    }
   ],
   "source": [
    "A=eval(input('A = '))\n",
    "B=eval(input('B = '))\n",
    "print()\n",
    "print('before swap variables')\n",
    "print('The value of A before swapping: {}'.format(A))\n",
    "print('The value of B before swapping: {}'.format(B))\n",
    "print()\n",
    "print('After the swap variables')\n",
    "C=A\n",
    "A=B\n",
    "B=C\n",
    "print('The value of A after swapping: {}'.format(A))\n",
    "print('The value of B after swapping: {}'.format(B))"
   ]
  },
  {
   "cell_type": "markdown",
   "id": "cdc0ab4b",
   "metadata": {},
   "source": [
    "## 5.)Write a Python program to generate a random number?"
   ]
  },
  {
   "cell_type": "code",
   "execution_count": 5,
   "id": "29ae3b99",
   "metadata": {},
   "outputs": [
    {
     "name": "stdout",
     "output_type": "stream",
     "text": [
      "8\n"
     ]
    }
   ],
   "source": [
    "# importing the random module\n",
    "import random\n",
    "print(random.randint(0,9))"
   ]
  },
  {
   "cell_type": "code",
   "execution_count": null,
   "id": "8bb82854",
   "metadata": {},
   "outputs": [],
   "source": []
  }
 ],
 "metadata": {
  "kernelspec": {
   "display_name": "Python 3 (ipykernel)",
   "language": "python",
   "name": "python3"
  },
  "language_info": {
   "codemirror_mode": {
    "name": "ipython",
    "version": 3
   },
   "file_extension": ".py",
   "mimetype": "text/x-python",
   "name": "python",
   "nbconvert_exporter": "python",
   "pygments_lexer": "ipython3",
   "version": "3.9.12"
  }
 },
 "nbformat": 4,
 "nbformat_minor": 5
}
